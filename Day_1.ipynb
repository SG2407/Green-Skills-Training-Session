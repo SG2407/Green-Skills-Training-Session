{
 "cells": [
  {
   "cell_type": "code",
   "execution_count": 1,
   "id": "5b04fa0f-6d88-4b84-bc05-8796ddd2aabf",
   "metadata": {},
   "outputs": [],
   "source": [
    "fruits = [\"Mango\" , \"Banana\" , \"Pineapple\" , \"Grapes\" , \"Orange\"]"
   ]
  },
  {
   "cell_type": "code",
   "execution_count": 2,
   "id": "da01a519-21b1-4ef4-9621-933ee65da0f9",
   "metadata": {},
   "outputs": [
    {
     "name": "stdout",
     "output_type": "stream",
     "text": [
      "['Mango', 'Banana', 'Pineapple', 'Grapes', 'Orange']\n"
     ]
    }
   ],
   "source": [
    "print(fruits)"
   ]
  },
  {
   "cell_type": "code",
   "execution_count": 3,
   "id": "6385e0eb-a8bc-4261-a728-fd091e052c08",
   "metadata": {},
   "outputs": [
    {
     "data": {
      "text/plain": [
       "'Orange'"
      ]
     },
     "execution_count": 3,
     "metadata": {},
     "output_type": "execute_result"
    }
   ],
   "source": [
    "fruits.pop()"
   ]
  },
  {
   "cell_type": "code",
   "execution_count": 4,
   "id": "a075b3a9-9870-45e7-9703-2aaa966f967d",
   "metadata": {},
   "outputs": [
    {
     "name": "stdout",
     "output_type": "stream",
     "text": [
      "['Mango', 'Banana', 'Pineapple', 'Grapes']\n"
     ]
    }
   ],
   "source": [
    "print(fruits)"
   ]
  },
  {
   "cell_type": "code",
   "execution_count": 5,
   "id": "95df5678-a8c0-42c4-a9b9-e82fd8ec3c7c",
   "metadata": {},
   "outputs": [],
   "source": [
    "fruits.append(\"Orange\")"
   ]
  },
  {
   "cell_type": "code",
   "execution_count": 6,
   "id": "4d46db4a-4c01-45d3-afdf-e04b4d86c00b",
   "metadata": {},
   "outputs": [
    {
     "name": "stdout",
     "output_type": "stream",
     "text": [
      "['Mango', 'Banana', 'Pineapple', 'Grapes', 'Orange']\n"
     ]
    }
   ],
   "source": [
    "print(fruits)"
   ]
  },
  {
   "cell_type": "code",
   "execution_count": 7,
   "id": "ec714002-a1d1-4a18-a0d3-f4ff5ebcfed3",
   "metadata": {},
   "outputs": [],
   "source": [
    "my_tuple = {35 , \"Maths\" , 13.56 , \"India\"  }"
   ]
  },
  {
   "cell_type": "code",
   "execution_count": 8,
   "id": "21c6bf18-4748-4f8f-8453-afbf2c45ebde",
   "metadata": {},
   "outputs": [
    {
     "name": "stdout",
     "output_type": "stream",
     "text": [
      "{'India', 'Maths', 35, 13.56}\n"
     ]
    }
   ],
   "source": [
    "print(my_tuple)"
   ]
  },
  {
   "cell_type": "code",
   "execution_count": 9,
   "id": "4e541e9f-e361-49ba-b1e5-f09da3763d09",
   "metadata": {},
   "outputs": [],
   "source": [
    "fruits.insert(1 , \"Apple\") "
   ]
  },
  {
   "cell_type": "code",
   "execution_count": 10,
   "id": "d736cd46-629b-4077-aade-ef1dc7e36748",
   "metadata": {},
   "outputs": [
    {
     "name": "stdout",
     "output_type": "stream",
     "text": [
      "['Mango', 'Apple', 'Banana', 'Pineapple', 'Grapes', 'Orange']\n"
     ]
    }
   ],
   "source": [
    "print(fruits)"
   ]
  },
  {
   "cell_type": "code",
   "execution_count": 11,
   "id": "f33ef767-3a2d-4e42-94dc-0d76f6ed8f82",
   "metadata": {},
   "outputs": [],
   "source": [
    "my_dict = {\"Car\": \"BMW\" ,\n",
    "           \"Colour\" : \"Blue\" ,\n",
    "           \"wheels\" : \"Alloy Wheels\" ,\n",
    "           \"Doors\"  : \"2 Doors\" ,\n",
    "           \"Engine\" : \"V20\"}"
   ]
  },
  {
   "cell_type": "code",
   "execution_count": 12,
   "id": "f65d5399-2915-4353-b8f7-35493ab9b07c",
   "metadata": {},
   "outputs": [
    {
     "name": "stdout",
     "output_type": "stream",
     "text": [
      "{'Car': 'BMW', 'Colour': 'Blue', 'wheels': 'Alloy Wheels', 'Doors': '2 Doors', 'Engine': 'V20'}\n"
     ]
    }
   ],
   "source": [
    "print(my_dict)"
   ]
  },
  {
   "cell_type": "code",
   "execution_count": 13,
   "id": "aefd42a3-0619-4a80-9dd9-452363875d3b",
   "metadata": {},
   "outputs": [
    {
     "name": "stdout",
     "output_type": "stream",
     "text": [
      "2 Doors\n"
     ]
    }
   ],
   "source": [
    "print(my_dict[\"Doors\"])"
   ]
  },
  {
   "cell_type": "code",
   "execution_count": 14,
   "id": "363501ce-8dc2-4c16-b7d3-cd3050c16b4c",
   "metadata": {},
   "outputs": [
    {
     "name": "stdout",
     "output_type": "stream",
     "text": [
      "Car  ->  BMW\n",
      "Colour  ->  Blue\n",
      "wheels  ->  Alloy Wheels\n",
      "Doors  ->  2 Doors\n",
      "Engine  ->  V20\n"
     ]
    }
   ],
   "source": [
    "for keys in my_dict.keys():\n",
    "        print(keys ,\" -> \" , my_dict[keys])"
   ]
  },
  {
   "cell_type": "code",
   "execution_count": 15,
   "id": "6cb67103-e0a8-4315-96ad-7b6f907a8c78",
   "metadata": {},
   "outputs": [],
   "source": [
    "my_set = {\"Apple\" , \"Mango\" , \"Apple\" , \"Orange\"}"
   ]
  },
  {
   "cell_type": "code",
   "execution_count": 16,
   "id": "2e96c64e-9c6b-4e98-af79-e0a8c6f13bf8",
   "metadata": {},
   "outputs": [
    {
     "data": {
      "text/plain": [
       "{'Apple', 'Mango', 'Orange'}"
      ]
     },
     "execution_count": 16,
     "metadata": {},
     "output_type": "execute_result"
    }
   ],
   "source": [
    "my_set"
   ]
  },
  {
   "cell_type": "code",
   "execution_count": 17,
   "id": "b37796e4-7002-49bc-a006-4ec2827c2c1d",
   "metadata": {},
   "outputs": [
    {
     "name": "stdout",
     "output_type": "stream",
     "text": [
      "Apple\n",
      "Orange\n",
      "Mango\n"
     ]
    }
   ],
   "source": [
    "for i in my_set:\n",
    "    print(i)"
   ]
  },
  {
   "cell_type": "code",
   "execution_count": 18,
   "id": "7155f6ab-1adc-46e8-b337-8818a4fd1099",
   "metadata": {},
   "outputs": [],
   "source": [
    "arr = []\n",
    "def even_num():\n",
    "    for i in range(5 , 51):\n",
    "        if i % 2 == 0:\n",
    "            arr.append(i)\n",
    "        else:\n",
    "            continue"
   ]
  },
  {
   "cell_type": "code",
   "execution_count": 19,
   "id": "43168bae-9443-47da-be47-cdfa8780bba1",
   "metadata": {},
   "outputs": [
    {
     "name": "stdout",
     "output_type": "stream",
     "text": [
      "[6, 8, 10, 12, 14, 16, 18, 20, 22, 24, 26, 28, 30, 32, 34, 36, 38, 40, 42, 44, 46, 48, 50]\n"
     ]
    }
   ],
   "source": [
    "even_num()\n",
    "print(arr)"
   ]
  },
  {
   "cell_type": "code",
   "execution_count": 20,
   "id": "d3898b23-8fb6-4d79-9884-cf21d35b2281",
   "metadata": {},
   "outputs": [
    {
     "name": "stdout",
     "output_type": "stream",
     "text": [
      "prgrssv dctns sccty's mdrn cllg f ngnrng\n"
     ]
    }
   ],
   "source": [
    "college = \"Progressive Educations Scociety's Modern College Of Engineering\"\n",
    "\n",
    "array = [\"a\",\"e\",\"i\",\"o\",\"u\"]\n",
    "new_college = []\n",
    "def no_vovels(string_input):\n",
    "    for i in string_input.lower():\n",
    "        if i in array:\n",
    "            continue\n",
    "        else:\n",
    "            new_college.append(i)\n",
    "no_vovels(college)\n",
    "\n",
    "name = \"\".join(new_college)\n",
    "print(name)"
   ]
  },
  {
   "cell_type": "code",
   "execution_count": 21,
   "id": "9e799664-1150-4234-95f1-f61ec905efd1",
   "metadata": {},
   "outputs": [
    {
     "name": "stdin",
     "output_type": "stream",
     "text": [
      "Enter the number:  5\n"
     ]
    },
    {
     "name": "stdout",
     "output_type": "stream",
     "text": [
      "5 * 1 = 5\n",
      "5 * 2 = 10\n",
      "5 * 3 = 15\n",
      "5 * 4 = 20\n",
      "5 * 5 = 25\n",
      "5 * 6 = 30\n",
      "5 * 7 = 35\n",
      "5 * 8 = 40\n",
      "5 * 9 = 45\n",
      "5 * 10 = 50\n"
     ]
    }
   ],
   "source": [
    "num = int(input(\"Enter the number: \"))\n",
    "\n",
    "for i in range(1,11):\n",
    "    print(f\"{num} * {i} = {num * i}\")"
   ]
  },
  {
   "cell_type": "code",
   "execution_count": 22,
   "id": "d25766e5-966c-436b-8fac-61349169a309",
   "metadata": {},
   "outputs": [
    {
     "name": "stdout",
     "output_type": "stream",
     "text": [
      "My name is Dog\n"
     ]
    }
   ],
   "source": [
    "class Dog:\n",
    "    attr1 = \"mammal\"\n",
    "\n",
    "    def __init__(self , name):\n",
    "        self.name = name\n",
    "\n",
    "    def speak(self):\n",
    "        print(f\"My name is {self.name}\")\n",
    "\n",
    "kutrya = Dog(\"Dog\")\n",
    "kutrya.speak()"
   ]
  },
  {
   "cell_type": "code",
   "execution_count": 40,
   "id": "01aa65f2-733f-4b36-b430-f106fcfefb0e",
   "metadata": {},
   "outputs": [
    {
     "name": "stdout",
     "output_type": "stream",
     "text": [
      "Name :  Sahil Gurjar\n",
      "Roll Number:  19\n",
      "Age :  21\n",
      "Expected Salary:  100000000\n"
     ]
    }
   ],
   "source": [
    "class student1:\n",
    "    \n",
    "\n",
    "    def __init__(self , name , roll_no):\n",
    "        self.name = name\n",
    "        self.roll_no = roll_no\n",
    "\n",
    "        \n",
    "class student2(student1):\n",
    "   \n",
    "    \n",
    "    def __init__(self , name , roll_no, age , expected_salary):\n",
    "        super().__init__(name , roll_no)\n",
    "        self.age = age\n",
    "        self.expected_salary = expected_salary\n",
    "\n",
    "    def details(self):\n",
    "        print(\"Name : \", self.name)\n",
    "        print(\"Roll Number: \", self.roll_no)\n",
    "        print(\"Age : \", self.age)\n",
    "        print(\"Expected Salary: \", self.expected_salary)\n",
    "\n",
    "vari = student2( \"Sahil Gurjar\" , 19 , 21 , 100000000)\n",
    "vari.details()\n",
    "    \n",
    "    "
   ]
  },
  {
   "cell_type": "code",
   "execution_count": null,
   "id": "6a541d3c-3c3e-4da7-9654-b0b49d9c0dec",
   "metadata": {},
   "outputs": [],
   "source": []
  }
 ],
 "metadata": {
  "kernelspec": {
   "display_name": "Python [conda env:base] *",
   "language": "python",
   "name": "conda-base-py"
  },
  "language_info": {
   "codemirror_mode": {
    "name": "ipython",
    "version": 3
   },
   "file_extension": ".py",
   "mimetype": "text/x-python",
   "name": "python",
   "nbconvert_exporter": "python",
   "pygments_lexer": "ipython3",
   "version": "3.13.5"
  }
 },
 "nbformat": 4,
 "nbformat_minor": 5
}
