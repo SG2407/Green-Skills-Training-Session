{
 "cells": [
  {
   "cell_type": "code",
   "execution_count": 39,
   "id": "cc0439ef-47cc-443d-a59c-bbba6b90aef4",
   "metadata": {},
   "outputs": [],
   "source": [
    "import numpy as np\n",
    "import pandas as pd"
   ]
  },
  {
   "cell_type": "code",
   "execution_count": 3,
   "id": "25d924e0-62a1-4e26-8b37-5f6df8bd8198",
   "metadata": {},
   "outputs": [],
   "source": [
    "one = np.array([\"Apple\" , \"Mango\" , \"Banana\" , \"Orange\" , \"Kiwi\"])"
   ]
  },
  {
   "cell_type": "code",
   "execution_count": 4,
   "id": "d85dffc6-e3dd-4106-8e3f-4bbe61baf996",
   "metadata": {},
   "outputs": [
    {
     "data": {
      "text/plain": [
       "array(['Apple', 'Mango', 'Banana', 'Orange', 'Kiwi'], dtype='<U6')"
      ]
     },
     "execution_count": 4,
     "metadata": {},
     "output_type": "execute_result"
    }
   ],
   "source": [
    "one"
   ]
  },
  {
   "cell_type": "code",
   "execution_count": 5,
   "id": "44dcff34-7817-4ab5-b6f2-1be6e11db0ee",
   "metadata": {},
   "outputs": [
    {
     "data": {
      "text/plain": [
       "1"
      ]
     },
     "execution_count": 5,
     "metadata": {},
     "output_type": "execute_result"
    }
   ],
   "source": [
    "one.ndim"
   ]
  },
  {
   "cell_type": "code",
   "execution_count": 6,
   "id": "245e5e69-5c86-4649-ac6e-6688a7e462bf",
   "metadata": {},
   "outputs": [
    {
     "data": {
      "text/plain": [
       "array([[2, 5, 3, 9]])"
      ]
     },
     "execution_count": 6,
     "metadata": {},
     "output_type": "execute_result"
    }
   ],
   "source": [
    "two = np.array([[2,5,3,9]])\n",
    "two"
   ]
  },
  {
   "cell_type": "code",
   "execution_count": 7,
   "id": "c353fd90-d24a-4cbb-a940-da7758d12365",
   "metadata": {},
   "outputs": [
    {
     "data": {
      "text/plain": [
       "2"
      ]
     },
     "execution_count": 7,
     "metadata": {},
     "output_type": "execute_result"
    }
   ],
   "source": [
    "two.ndim"
   ]
  },
  {
   "cell_type": "code",
   "execution_count": 8,
   "id": "f87719cf-afec-4a69-b185-b6938f8b3b9d",
   "metadata": {},
   "outputs": [
    {
     "data": {
      "text/plain": [
       "array([[[[[2, 5, 1, 8, 3, 0]]]]])"
      ]
     },
     "execution_count": 8,
     "metadata": {},
     "output_type": "execute_result"
    }
   ],
   "source": [
    "five = np.array([[[[[2,5,1,8,3,0]]]]])\n",
    "five\n"
   ]
  },
  {
   "cell_type": "code",
   "execution_count": 9,
   "id": "103c5ac1-e9cf-438c-af98-9d2eaa513ee4",
   "metadata": {},
   "outputs": [
    {
     "data": {
      "text/plain": [
       "5"
      ]
     },
     "execution_count": 9,
     "metadata": {},
     "output_type": "execute_result"
    }
   ],
   "source": [
    "five.ndim"
   ]
  },
  {
   "cell_type": "code",
   "execution_count": 10,
   "id": "082e3f4b-4188-42f8-b044-5799a0d9c8c3",
   "metadata": {},
   "outputs": [
    {
     "data": {
      "text/plain": [
       "(1, 1, 1, 1, 6)"
      ]
     },
     "execution_count": 10,
     "metadata": {},
     "output_type": "execute_result"
    }
   ],
   "source": [
    "five.shape"
   ]
  },
  {
   "cell_type": "code",
   "execution_count": 11,
   "id": "ab9bcd2e-dea9-4e13-9650-091ce80c1929",
   "metadata": {},
   "outputs": [
    {
     "data": {
      "text/plain": [
       "4"
      ]
     },
     "execution_count": 11,
     "metadata": {},
     "output_type": "execute_result"
    }
   ],
   "source": [
    "two.size"
   ]
  },
  {
   "cell_type": "code",
   "execution_count": 12,
   "id": "9aaad586-3659-4d16-b3ce-472ce08f50e0",
   "metadata": {},
   "outputs": [
    {
     "name": "stdout",
     "output_type": "stream",
     "text": [
      "<U6\n",
      "int64\n"
     ]
    },
    {
     "data": {
      "text/plain": [
       "dtype('int64')"
      ]
     },
     "execution_count": 12,
     "metadata": {},
     "output_type": "execute_result"
    }
   ],
   "source": [
    "print(one.dtype)\n",
    "print(two.dtype)\n",
    "five.dtype"
   ]
  },
  {
   "cell_type": "code",
   "execution_count": 13,
   "id": "84690ce1-6bb9-4ef6-8c1c-d109998fc42d",
   "metadata": {},
   "outputs": [
    {
     "data": {
      "text/plain": [
       "8"
      ]
     },
     "execution_count": 13,
     "metadata": {},
     "output_type": "execute_result"
    }
   ],
   "source": [
    "five.itemsize"
   ]
  },
  {
   "cell_type": "code",
   "execution_count": 14,
   "id": "f3b185ec-d541-45b7-9834-43f7e60bd5eb",
   "metadata": {},
   "outputs": [
    {
     "data": {
      "text/plain": [
       "array([[1., 1., 1., 1., 1.],\n",
       "       [1., 1., 1., 1., 1.],\n",
       "       [1., 1., 1., 1., 1.]])"
      ]
     },
     "execution_count": 14,
     "metadata": {},
     "output_type": "execute_result"
    }
   ],
   "source": [
    "one_arr = np.ones((3,5))\n",
    "one_arr"
   ]
  },
  {
   "cell_type": "code",
   "execution_count": 15,
   "id": "4769a9fb-3038-4a14-afff-8d5aa41cdab9",
   "metadata": {},
   "outputs": [
    {
     "data": {
      "text/plain": [
       "array([[0., 0., 0., 0., 0.],\n",
       "       [0., 0., 0., 0., 0.],\n",
       "       [0., 0., 0., 0., 0.]])"
      ]
     },
     "execution_count": 15,
     "metadata": {},
     "output_type": "execute_result"
    }
   ],
   "source": [
    "zero_arr = np.zeros((3,5))\n",
    "zero_arr"
   ]
  },
  {
   "cell_type": "code",
   "execution_count": 16,
   "id": "6427e382-d70f-4ede-84dc-b1001d77bfc5",
   "metadata": {},
   "outputs": [
    {
     "data": {
      "text/plain": [
       "array([[0.40251811, 0.23033815, 0.6614025 , 0.72163453, 0.14460109],\n",
       "       [0.26555255, 0.03451611, 0.91132042, 0.02501817, 0.36230973],\n",
       "       [0.54463348, 0.89258797, 0.83008819, 0.73976198, 0.75207   ]])"
      ]
     },
     "execution_count": 16,
     "metadata": {},
     "output_type": "execute_result"
    }
   ],
   "source": [
    "random_arr = np.random.random((3,5))\n",
    "random_arr"
   ]
  },
  {
   "cell_type": "code",
   "execution_count": 17,
   "id": "0d770a20-bda4-4de3-a0ca-993ec381f79a",
   "metadata": {},
   "outputs": [
    {
     "data": {
      "text/plain": [
       "array([[1., 0., 0.],\n",
       "       [0., 1., 0.],\n",
       "       [0., 0., 1.]])"
      ]
     },
     "execution_count": 17,
     "metadata": {},
     "output_type": "execute_result"
    }
   ],
   "source": [
    "identity = np.identity(3)\n",
    "identity"
   ]
  },
  {
   "cell_type": "code",
   "execution_count": 18,
   "id": "c6e19e76-d7d4-4c7f-8c9e-1ac2967a90f6",
   "metadata": {},
   "outputs": [
    {
     "data": {
      "text/plain": [
       "array([0, 1, 2, 3, 4, 5])"
      ]
     },
     "execution_count": 18,
     "metadata": {},
     "output_type": "execute_result"
    }
   ],
   "source": [
    "arrange = np.arange(6)\n",
    "arrange"
   ]
  },
  {
   "cell_type": "code",
   "execution_count": 19,
   "id": "7c8370fc-4b63-409e-a2bc-89c23f9d79eb",
   "metadata": {},
   "outputs": [
    {
     "data": {
      "text/plain": [
       "array([ 4,  5,  6,  7,  8,  9, 10, 11, 12, 13, 14])"
      ]
     },
     "execution_count": 19,
     "metadata": {},
     "output_type": "execute_result"
    }
   ],
   "source": [
    "arrange1 = np.arange(4,15)\n",
    "arrange1"
   ]
  },
  {
   "cell_type": "code",
   "execution_count": 20,
   "id": "12077a04-59b1-4cfe-aa91-cd4a35ed1bc7",
   "metadata": {},
   "outputs": [
    {
     "data": {
      "text/plain": [
       "array([ 2,  5,  8, 11, 14, 17, 20, 23, 26, 29, 32, 35, 38, 41, 44, 47])"
      ]
     },
     "execution_count": 20,
     "metadata": {},
     "output_type": "execute_result"
    }
   ],
   "source": [
    "arrange2 = np.arange(2,50,3)\n",
    "arrange2"
   ]
  },
  {
   "cell_type": "code",
   "execution_count": 21,
   "id": "cabae94a-f2e5-45bf-b361-a9638dd3b37d",
   "metadata": {},
   "outputs": [
    {
     "data": {
      "text/plain": [
       "array([ 2.        ,  2.20512821,  2.41025641,  2.61538462,  2.82051282,\n",
       "        3.02564103,  3.23076923,  3.43589744,  3.64102564,  3.84615385,\n",
       "        4.05128205,  4.25641026,  4.46153846,  4.66666667,  4.87179487,\n",
       "        5.07692308,  5.28205128,  5.48717949,  5.69230769,  5.8974359 ,\n",
       "        6.1025641 ,  6.30769231,  6.51282051,  6.71794872,  6.92307692,\n",
       "        7.12820513,  7.33333333,  7.53846154,  7.74358974,  7.94871795,\n",
       "        8.15384615,  8.35897436,  8.56410256,  8.76923077,  8.97435897,\n",
       "        9.17948718,  9.38461538,  9.58974359,  9.79487179, 10.        ])"
      ]
     },
     "execution_count": 21,
     "metadata": {},
     "output_type": "execute_result"
    }
   ],
   "source": [
    "linspace = np.linspace(2,10,40)\n",
    "linspace"
   ]
  },
  {
   "cell_type": "code",
   "execution_count": 22,
   "id": "c6b5ed32-9bac-4671-97d0-929bef7970a1",
   "metadata": {},
   "outputs": [
    {
     "data": {
      "text/plain": [
       "[1, 2, 3, 4, 5, 6, 7, 8, 9, 10, 11, 12, 13, 14, 15, 16]"
      ]
     },
     "execution_count": 22,
     "metadata": {},
     "output_type": "execute_result"
    }
   ],
   "source": [
    "my_list = [1,2,3,4,5,6,7,8,9,10,11,12,13,14,15,16]\n",
    "my_list"
   ]
  },
  {
   "cell_type": "code",
   "execution_count": 23,
   "id": "22accb30-7c6e-4f7c-8a0e-463ea0761c7b",
   "metadata": {},
   "outputs": [
    {
     "data": {
      "text/plain": [
       "array([ 1,  2,  3,  4,  5,  6,  7,  8,  9, 10, 11, 12, 13, 14, 15, 16])"
      ]
     },
     "execution_count": 23,
     "metadata": {},
     "output_type": "execute_result"
    }
   ],
   "source": [
    "my_array = np.array(my_list)\n",
    "my_array"
   ]
  },
  {
   "cell_type": "code",
   "execution_count": 24,
   "id": "7d573f89-d30c-4899-921d-1bd96c38f3c2",
   "metadata": {},
   "outputs": [
    {
     "data": {
      "text/plain": [
       "array({1, 2, 3, 4, 5, 6, 7}, dtype=object)"
      ]
     },
     "execution_count": 24,
     "metadata": {},
     "output_type": "execute_result"
    }
   ],
   "source": [
    "my_tuple = {1,2,3,4,5,6,7}\n",
    "my_arr = np.array(my_tuple)\n",
    "my_arr"
   ]
  },
  {
   "cell_type": "code",
   "execution_count": 25,
   "id": "8e389add-e32d-4677-8804-f02e6075ea2d",
   "metadata": {},
   "outputs": [
    {
     "data": {
      "text/plain": [
       "array([ 1,  3,  5,  7,  9, 11, 13, 15])"
      ]
     },
     "execution_count": 25,
     "metadata": {},
     "output_type": "execute_result"
    }
   ],
   "source": [
    "my_array[::2]"
   ]
  },
  {
   "cell_type": "code",
   "execution_count": 26,
   "id": "d42e7e74-705a-4428-a1ad-986c91ce1d14",
   "metadata": {},
   "outputs": [
    {
     "data": {
      "text/plain": [
       "array([16, 15, 14, 13, 12, 11, 10,  9,  8,  7,  6,  5,  4,  3,  2,  1])"
      ]
     },
     "execution_count": 26,
     "metadata": {},
     "output_type": "execute_result"
    }
   ],
   "source": [
    "my_array[::-1]"
   ]
  },
  {
   "cell_type": "code",
   "execution_count": 27,
   "id": "c2faef5b-f4d6-47b3-95ef-d790d87095a2",
   "metadata": {},
   "outputs": [
    {
     "data": {
      "text/plain": [
       "array([ 3,  5,  7,  9, 11, 13, 15])"
      ]
     },
     "execution_count": 27,
     "metadata": {},
     "output_type": "execute_result"
    }
   ],
   "source": [
    "my_array[2::2]"
   ]
  },
  {
   "cell_type": "code",
   "execution_count": 28,
   "id": "7119c5bf-1b9b-4531-b810-9a8a6553abf6",
   "metadata": {},
   "outputs": [
    {
     "data": {
      "text/plain": [
       "array([ 2,  4,  6,  8, 10, 12, 14, 16])"
      ]
     },
     "execution_count": 28,
     "metadata": {},
     "output_type": "execute_result"
    }
   ],
   "source": [
    "my_array[1:16:2]"
   ]
  },
  {
   "cell_type": "code",
   "execution_count": 29,
   "id": "ac8c1c3c-5ca4-4a37-9715-d3af92c7ad2a",
   "metadata": {},
   "outputs": [
    {
     "data": {
      "text/plain": [
       "array([[1, 2, 3],\n",
       "       [4, 5, 6]])"
      ]
     },
     "execution_count": 29,
     "metadata": {},
     "output_type": "execute_result"
    }
   ],
   "source": [
    "kernel = np.array([[1,2,3],[4,5,6]])\n",
    "kernel"
   ]
  },
  {
   "cell_type": "code",
   "execution_count": 30,
   "id": "36e9a7c8-cb36-499b-9646-bda17cec923c",
   "metadata": {},
   "outputs": [
    {
     "data": {
      "text/plain": [
       "array([1, 2, 3, 4, 5, 6])"
      ]
     },
     "execution_count": 30,
     "metadata": {},
     "output_type": "execute_result"
    }
   ],
   "source": [
    "kernel.flatten()"
   ]
  },
  {
   "cell_type": "code",
   "execution_count": 31,
   "id": "f191f2cf-d00d-4f58-88ae-8e837b504237",
   "metadata": {},
   "outputs": [
    {
     "data": {
      "text/plain": [
       "array([[ 1,  2,  3,  4,  5,  6],\n",
       "       [ 7,  8,  9, 10, 11, 12],\n",
       "       [13, 14, 15, 16, 17, 18]])"
      ]
     },
     "execution_count": 31,
     "metadata": {},
     "output_type": "execute_result"
    }
   ],
   "source": [
    "array1 = np.array([[1,2,3,4,5,6],[7,8,9,10,11,12],[13,14,15,16,17,18]])\n",
    "array1"
   ]
  },
  {
   "cell_type": "code",
   "execution_count": 32,
   "id": "17327211-4547-45fd-b522-2782bfeb19c3",
   "metadata": {},
   "outputs": [
    {
     "data": {
      "text/plain": [
       "array([ 1,  2,  3,  4,  5,  6,  7,  8,  9, 10, 11, 12, 13, 14, 15, 16, 17,\n",
       "       18])"
      ]
     },
     "execution_count": 32,
     "metadata": {},
     "output_type": "execute_result"
    }
   ],
   "source": [
    "array1.flatten()"
   ]
  },
  {
   "cell_type": "code",
   "execution_count": 33,
   "id": "c654ce2f-e23a-4dc1-a80a-99d5d31a90d5",
   "metadata": {},
   "outputs": [
    {
     "data": {
      "text/plain": [
       "array([[0, 1],\n",
       "       [2, 3]])"
      ]
     },
     "execution_count": 33,
     "metadata": {},
     "output_type": "execute_result"
    }
   ],
   "source": [
    "array2 = np.array([[0,1],[2,3]])\n",
    "array2"
   ]
  },
  {
   "cell_type": "code",
   "execution_count": 34,
   "id": "880f28bd-f2c6-482f-9bd6-b93df534eb28",
   "metadata": {},
   "outputs": [
    {
     "data": {
      "text/plain": [
       "array([[0, 1, 2],\n",
       "       [3, 0, 1]])"
      ]
     },
     "execution_count": 34,
     "metadata": {},
     "output_type": "execute_result"
    }
   ],
   "source": [
    "np.resize(array2,(2,3))"
   ]
  },
  {
   "cell_type": "code",
   "execution_count": null,
   "id": "89f6f703-12ee-413d-a0d8-c21517e95c0d",
   "metadata": {},
   "outputs": [],
   "source": []
  },
  {
   "cell_type": "code",
   "execution_count": 35,
   "id": "1411f0c8-1daf-4b62-9722-afbfa5d87d75",
   "metadata": {},
   "outputs": [],
   "source": [
    "import pandas as pd"
   ]
  },
  {
   "cell_type": "code",
   "execution_count": 42,
   "id": "30ce842b-1811-4ea7-a76d-7ab4591053ce",
   "metadata": {},
   "outputs": [
    {
     "data": {
      "text/plain": [
       "{'Name': ['Sahil', 'Shreyash', 'Siddesh', 'Vedant', 'Riddesh', 'Soham'],\n",
       " 'Roll_No': ['39019', '39014', '39010', '3907', '39020', '39072'],\n",
       " 'Age': ['21', '20', '20', '22', '21', '20'],\n",
       " 'Attendance': ['100', '90', '80', '70', '60', '50']}"
      ]
     },
     "execution_count": 42,
     "metadata": {},
     "output_type": "execute_result"
    }
   ],
   "source": [
    "my_dict = {\"Name\":[\"Sahil\" , \"Shreyash\" , \"Siddesh\" , \"Vedant\", \"Riddesh\" , \"Soham\"],\n",
    "           \"Roll_No\": [\"39019\" , \"39014\" , \"39010\" , \"3907\" , \"39020\" , \"39072\"],\n",
    "          \"Age\":[\"21\",\"20\",\"20\",\"22\" , \"21\" , \"20\"],\n",
    "          \"Attendance\":[\"100\",\"90\" ,\"80\" , \"70\" , \"60\" , \"50\"],}\n",
    "my_dict"
   ]
  },
  {
   "cell_type": "code",
   "execution_count": 43,
   "id": "dd3d7d42-8ae7-4d67-8d7d-02f278b37aae",
   "metadata": {},
   "outputs": [],
   "source": [
    "df = pd.DataFrame(my_dict)                                                     "
   ]
  },
  {
   "cell_type": "code",
   "execution_count": 44,
   "id": "ba1874b4-abc5-450e-bada-020977902331",
   "metadata": {},
   "outputs": [
    {
     "data": {
      "text/html": [
       "<div>\n",
       "<style scoped>\n",
       "    .dataframe tbody tr th:only-of-type {\n",
       "        vertical-align: middle;\n",
       "    }\n",
       "\n",
       "    .dataframe tbody tr th {\n",
       "        vertical-align: top;\n",
       "    }\n",
       "\n",
       "    .dataframe thead th {\n",
       "        text-align: right;\n",
       "    }\n",
       "</style>\n",
       "<table border=\"1\" class=\"dataframe\">\n",
       "  <thead>\n",
       "    <tr style=\"text-align: right;\">\n",
       "      <th></th>\n",
       "      <th>Name</th>\n",
       "      <th>Roll_No</th>\n",
       "      <th>Age</th>\n",
       "      <th>Attendance</th>\n",
       "    </tr>\n",
       "  </thead>\n",
       "  <tbody>\n",
       "    <tr>\n",
       "      <th>0</th>\n",
       "      <td>Sahil</td>\n",
       "      <td>39019</td>\n",
       "      <td>21</td>\n",
       "      <td>100</td>\n",
       "    </tr>\n",
       "    <tr>\n",
       "      <th>1</th>\n",
       "      <td>Shreyash</td>\n",
       "      <td>39014</td>\n",
       "      <td>20</td>\n",
       "      <td>90</td>\n",
       "    </tr>\n",
       "    <tr>\n",
       "      <th>2</th>\n",
       "      <td>Siddesh</td>\n",
       "      <td>39010</td>\n",
       "      <td>20</td>\n",
       "      <td>80</td>\n",
       "    </tr>\n",
       "    <tr>\n",
       "      <th>3</th>\n",
       "      <td>Vedant</td>\n",
       "      <td>3907</td>\n",
       "      <td>22</td>\n",
       "      <td>70</td>\n",
       "    </tr>\n",
       "    <tr>\n",
       "      <th>4</th>\n",
       "      <td>Riddesh</td>\n",
       "      <td>39020</td>\n",
       "      <td>21</td>\n",
       "      <td>60</td>\n",
       "    </tr>\n",
       "    <tr>\n",
       "      <th>5</th>\n",
       "      <td>Soham</td>\n",
       "      <td>39072</td>\n",
       "      <td>20</td>\n",
       "      <td>50</td>\n",
       "    </tr>\n",
       "  </tbody>\n",
       "</table>\n",
       "</div>"
      ],
      "text/plain": [
       "       Name Roll_No Age Attendance\n",
       "0     Sahil   39019  21        100\n",
       "1  Shreyash   39014  20         90\n",
       "2   Siddesh   39010  20         80\n",
       "3    Vedant    3907  22         70\n",
       "4   Riddesh   39020  21         60\n",
       "5     Soham   39072  20         50"
      ]
     },
     "execution_count": 44,
     "metadata": {},
     "output_type": "execute_result"
    }
   ],
   "source": [
    "df"
   ]
  },
  {
   "cell_type": "code",
   "execution_count": 45,
   "id": "80250473-3fd9-4835-8591-3355fb660215",
   "metadata": {},
   "outputs": [
    {
     "data": {
      "text/plain": [
       "{'Energy Source': ['Solar',\n",
       "  'Wind',\n",
       "  'Hydropower',\n",
       "  'Geothermal',\n",
       "  'Biomass',\n",
       "  'Nuclear'],\n",
       " 'Energy Consumption': [1200, nan, 2900, nan, 2500, 3200],\n",
       " 'Cost Millions ': [200, 400, nan, 150, 250, nan]}"
      ]
     },
     "execution_count": 45,
     "metadata": {},
     "output_type": "execute_result"
    }
   ],
   "source": [
    "data = {\n",
    "    \"Energy Source\": [\"Solar\" , \"Wind\" , \"Hydropower\" , \"Geothermal\" , \"Biomass\" , \"Nuclear\"],\n",
    "    \"Energy Consumption\":[1200 , np.nan , 2900 , np.nan , 2500 , 3200],\n",
    "    \"Cost Millions \":[200 , 400 , np.nan , 150 , 250 , np.nan]\n",
    "}\n",
    "\n",
    "data"
   ]
  },
  {
   "cell_type": "code",
   "execution_count": 46,
   "id": "d6e813c9-3072-40c8-a1bc-5fa6e0b02cc7",
   "metadata": {},
   "outputs": [
    {
     "data": {
      "text/html": [
       "<div>\n",
       "<style scoped>\n",
       "    .dataframe tbody tr th:only-of-type {\n",
       "        vertical-align: middle;\n",
       "    }\n",
       "\n",
       "    .dataframe tbody tr th {\n",
       "        vertical-align: top;\n",
       "    }\n",
       "\n",
       "    .dataframe thead th {\n",
       "        text-align: right;\n",
       "    }\n",
       "</style>\n",
       "<table border=\"1\" class=\"dataframe\">\n",
       "  <thead>\n",
       "    <tr style=\"text-align: right;\">\n",
       "      <th></th>\n",
       "      <th>Energy Source</th>\n",
       "      <th>Energy Consumption</th>\n",
       "      <th>Cost Millions</th>\n",
       "    </tr>\n",
       "  </thead>\n",
       "  <tbody>\n",
       "    <tr>\n",
       "      <th>0</th>\n",
       "      <td>Solar</td>\n",
       "      <td>1200.0</td>\n",
       "      <td>200.0</td>\n",
       "    </tr>\n",
       "    <tr>\n",
       "      <th>1</th>\n",
       "      <td>Wind</td>\n",
       "      <td>NaN</td>\n",
       "      <td>400.0</td>\n",
       "    </tr>\n",
       "    <tr>\n",
       "      <th>2</th>\n",
       "      <td>Hydropower</td>\n",
       "      <td>2900.0</td>\n",
       "      <td>NaN</td>\n",
       "    </tr>\n",
       "    <tr>\n",
       "      <th>3</th>\n",
       "      <td>Geothermal</td>\n",
       "      <td>NaN</td>\n",
       "      <td>150.0</td>\n",
       "    </tr>\n",
       "    <tr>\n",
       "      <th>4</th>\n",
       "      <td>Biomass</td>\n",
       "      <td>2500.0</td>\n",
       "      <td>250.0</td>\n",
       "    </tr>\n",
       "    <tr>\n",
       "      <th>5</th>\n",
       "      <td>Nuclear</td>\n",
       "      <td>3200.0</td>\n",
       "      <td>NaN</td>\n",
       "    </tr>\n",
       "  </tbody>\n",
       "</table>\n",
       "</div>"
      ],
      "text/plain": [
       "  Energy Source  Energy Consumption  Cost Millions \n",
       "0         Solar              1200.0           200.0\n",
       "1          Wind                 NaN           400.0\n",
       "2    Hydropower              2900.0             NaN\n",
       "3    Geothermal                 NaN           150.0\n",
       "4       Biomass              2500.0           250.0\n",
       "5       Nuclear              3200.0             NaN"
      ]
     },
     "execution_count": 46,
     "metadata": {},
     "output_type": "execute_result"
    }
   ],
   "source": [
    "energy_df = pd.DataFrame(data)\n",
    "\n",
    "energy_df"
   ]
  },
  {
   "cell_type": "code",
   "execution_count": 47,
   "id": "4b0890d1-f85e-4042-bb7e-be9182c9bdc3",
   "metadata": {},
   "outputs": [
    {
     "name": "stdout",
     "output_type": "stream",
     "text": [
      "<class 'pandas.core.frame.DataFrame'>\n",
      "RangeIndex: 6 entries, 0 to 5\n",
      "Data columns (total 3 columns):\n",
      " #   Column              Non-Null Count  Dtype  \n",
      "---  ------              --------------  -----  \n",
      " 0   Energy Source       6 non-null      object \n",
      " 1   Energy Consumption  4 non-null      float64\n",
      " 2   Cost Millions       4 non-null      float64\n",
      "dtypes: float64(2), object(1)\n",
      "memory usage: 276.0+ bytes\n"
     ]
    }
   ],
   "source": [
    "energy_df.info()"
   ]
  },
  {
   "cell_type": "code",
   "execution_count": 48,
   "id": "96bd7a47-b306-48ac-9a48-f28672195cea",
   "metadata": {},
   "outputs": [
    {
     "data": {
      "text/plain": [
       "<bound method DataFrame.isna of   Energy Source  Energy Consumption  Cost Millions \n",
       "0         Solar              1200.0           200.0\n",
       "1          Wind                 NaN           400.0\n",
       "2    Hydropower              2900.0             NaN\n",
       "3    Geothermal                 NaN           150.0\n",
       "4       Biomass              2500.0           250.0\n",
       "5       Nuclear              3200.0             NaN>"
      ]
     },
     "execution_count": 48,
     "metadata": {},
     "output_type": "execute_result"
    }
   ],
   "source": [
    "energy_df.isna"
   ]
  },
  {
   "cell_type": "code",
   "execution_count": 49,
   "id": "0fab03c6-f822-4e24-ab49-483ea64dad6d",
   "metadata": {},
   "outputs": [
    {
     "data": {
      "text/plain": [
       "<bound method DataFrame.isnull of   Energy Source  Energy Consumption  Cost Millions \n",
       "0         Solar              1200.0           200.0\n",
       "1          Wind                 NaN           400.0\n",
       "2    Hydropower              2900.0             NaN\n",
       "3    Geothermal                 NaN           150.0\n",
       "4       Biomass              2500.0           250.0\n",
       "5       Nuclear              3200.0             NaN>"
      ]
     },
     "execution_count": 49,
     "metadata": {},
     "output_type": "execute_result"
    }
   ],
   "source": [
    "energy_df.isnull"
   ]
  },
  {
   "cell_type": "code",
   "execution_count": 50,
   "id": "2b6299ea-5cfd-44d1-9e41-287795c2f761",
   "metadata": {},
   "outputs": [
    {
     "data": {
      "text/html": [
       "<div>\n",
       "<style scoped>\n",
       "    .dataframe tbody tr th:only-of-type {\n",
       "        vertical-align: middle;\n",
       "    }\n",
       "\n",
       "    .dataframe tbody tr th {\n",
       "        vertical-align: top;\n",
       "    }\n",
       "\n",
       "    .dataframe thead th {\n",
       "        text-align: right;\n",
       "    }\n",
       "</style>\n",
       "<table border=\"1\" class=\"dataframe\">\n",
       "  <thead>\n",
       "    <tr style=\"text-align: right;\">\n",
       "      <th></th>\n",
       "      <th>Energy Consumption</th>\n",
       "      <th>Cost Millions</th>\n",
       "    </tr>\n",
       "  </thead>\n",
       "  <tbody>\n",
       "    <tr>\n",
       "      <th>count</th>\n",
       "      <td>4.000000</td>\n",
       "      <td>4.000000</td>\n",
       "    </tr>\n",
       "    <tr>\n",
       "      <th>mean</th>\n",
       "      <td>2450.000000</td>\n",
       "      <td>250.000000</td>\n",
       "    </tr>\n",
       "    <tr>\n",
       "      <th>std</th>\n",
       "      <td>881.286938</td>\n",
       "      <td>108.012345</td>\n",
       "    </tr>\n",
       "    <tr>\n",
       "      <th>min</th>\n",
       "      <td>1200.000000</td>\n",
       "      <td>150.000000</td>\n",
       "    </tr>\n",
       "    <tr>\n",
       "      <th>25%</th>\n",
       "      <td>2175.000000</td>\n",
       "      <td>187.500000</td>\n",
       "    </tr>\n",
       "    <tr>\n",
       "      <th>50%</th>\n",
       "      <td>2700.000000</td>\n",
       "      <td>225.000000</td>\n",
       "    </tr>\n",
       "    <tr>\n",
       "      <th>75%</th>\n",
       "      <td>2975.000000</td>\n",
       "      <td>287.500000</td>\n",
       "    </tr>\n",
       "    <tr>\n",
       "      <th>max</th>\n",
       "      <td>3200.000000</td>\n",
       "      <td>400.000000</td>\n",
       "    </tr>\n",
       "  </tbody>\n",
       "</table>\n",
       "</div>"
      ],
      "text/plain": [
       "       Energy Consumption  Cost Millions \n",
       "count            4.000000        4.000000\n",
       "mean          2450.000000      250.000000\n",
       "std            881.286938      108.012345\n",
       "min           1200.000000      150.000000\n",
       "25%           2175.000000      187.500000\n",
       "50%           2700.000000      225.000000\n",
       "75%           2975.000000      287.500000\n",
       "max           3200.000000      400.000000"
      ]
     },
     "execution_count": 50,
     "metadata": {},
     "output_type": "execute_result"
    }
   ],
   "source": [
    "energy_df.describe()"
   ]
  },
  {
   "cell_type": "code",
   "execution_count": null,
   "id": "8903108e-dad2-49ac-96e2-01a5ea630428",
   "metadata": {},
   "outputs": [],
   "source": []
  }
 ],
 "metadata": {
  "kernelspec": {
   "display_name": "Python [conda env:base] *",
   "language": "python",
   "name": "conda-base-py"
  },
  "language_info": {
   "codemirror_mode": {
    "name": "ipython",
    "version": 3
   },
   "file_extension": ".py",
   "mimetype": "text/x-python",
   "name": "python",
   "nbconvert_exporter": "python",
   "pygments_lexer": "ipython3",
   "version": "3.13.5"
  }
 },
 "nbformat": 4,
 "nbformat_minor": 5
}
